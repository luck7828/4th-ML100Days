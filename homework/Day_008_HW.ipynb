{
 "cells": [
  {
   "cell_type": "markdown",
   "metadata": {},
   "source": [
    "# [作業目標]\n",
    "- 對資料做更多處理 : 顯示特定欄位的統計值與直方圖"
   ]
  },
  {
   "cell_type": "markdown",
   "metadata": {},
   "source": [
    "# [作業重點]\n",
    "- 試著顯示特定欄位的基礎統計數值 (In[4], Out[4], Hint : describe())\n",
    "- 試著顯示特定欄位的直方圖 (In[5], Out[5], Hint : .hist())"
   ]
  },
  {
   "cell_type": "code",
   "execution_count": 2,
   "metadata": {},
   "outputs": [],
   "source": [
    "# Import 需要的套件\n",
    "import os\n",
    "import numpy as np\n",
    "import pandas as pd\n",
    "\n",
    "# 設定 data_path\n",
    "dir_data = './data/'"
   ]
  },
  {
   "cell_type": "code",
   "execution_count": 3,
   "metadata": {},
   "outputs": [],
   "source": [
    "f_app_train = os.path.join(dir_data, 'application_train.csv')\n",
    "app_train = pd.read_csv(f_app_train)"
   ]
  },
  {
   "cell_type": "code",
   "execution_count": 4,
   "metadata": {},
   "outputs": [],
   "source": [
    "import matplotlib.pyplot as plt\n",
    "%matplotlib inline"
   ]
  },
  {
   "cell_type": "markdown",
   "metadata": {},
   "source": [
    "## 練習時間"
   ]
  },
  {
   "cell_type": "markdown",
   "metadata": {},
   "source": [
    "觀察有興趣的欄位的資料分佈，並嘗試找出有趣的訊息\n",
    "#### Eg\n",
    "- 計算任意欄位的平均數及標準差\n",
    "- 畫出任意欄位的[直方圖](https://zh.wikipedia.org/zh-tw/%E7%9B%B4%E6%96%B9%E5%9B%BE)\n",
    "\n",
    "### Hints:\n",
    "- [Descriptive Statistics For pandas Dataframe](https://chrisalbon.com/python/data_wrangling/pandas_dataframe_descriptive_stats/)\n",
    "- [pandas 中的繪圖函數](https://amaozhao.gitbooks.io/pandas-notebook/content/pandas%E4%B8%AD%E7%9A%84%E7%BB%98%E5%9B%BE%E5%87%BD%E6%95%B0.html)\n"
   ]
  },
  {
   "cell_type": "code",
   "execution_count": 6,
   "metadata": {},
   "outputs": [
    {
     "data": {
      "text/html": [
       "<div>\n",
       "<style scoped>\n",
       "    .dataframe tbody tr th:only-of-type {\n",
       "        vertical-align: middle;\n",
       "    }\n",
       "\n",
       "    .dataframe tbody tr th {\n",
       "        vertical-align: top;\n",
       "    }\n",
       "\n",
       "    .dataframe thead th {\n",
       "        text-align: right;\n",
       "    }\n",
       "</style>\n",
       "<table border=\"1\" class=\"dataframe\">\n",
       "  <thead>\n",
       "    <tr style=\"text-align: right;\">\n",
       "      <th></th>\n",
       "      <th>SK_ID_CURR</th>\n",
       "      <th>TARGET</th>\n",
       "      <th>CNT_CHILDREN</th>\n",
       "      <th>AMT_INCOME_TOTAL</th>\n",
       "      <th>AMT_CREDIT</th>\n",
       "      <th>AMT_ANNUITY</th>\n",
       "      <th>AMT_GOODS_PRICE</th>\n",
       "      <th>REGION_POPULATION_RELATIVE</th>\n",
       "      <th>DAYS_BIRTH</th>\n",
       "      <th>DAYS_EMPLOYED</th>\n",
       "      <th>...</th>\n",
       "      <th>FLAG_DOCUMENT_18</th>\n",
       "      <th>FLAG_DOCUMENT_19</th>\n",
       "      <th>FLAG_DOCUMENT_20</th>\n",
       "      <th>FLAG_DOCUMENT_21</th>\n",
       "      <th>AMT_REQ_CREDIT_BUREAU_HOUR</th>\n",
       "      <th>AMT_REQ_CREDIT_BUREAU_DAY</th>\n",
       "      <th>AMT_REQ_CREDIT_BUREAU_WEEK</th>\n",
       "      <th>AMT_REQ_CREDIT_BUREAU_MON</th>\n",
       "      <th>AMT_REQ_CREDIT_BUREAU_QRT</th>\n",
       "      <th>AMT_REQ_CREDIT_BUREAU_YEAR</th>\n",
       "    </tr>\n",
       "  </thead>\n",
       "  <tbody>\n",
       "    <tr>\n",
       "      <td>count</td>\n",
       "      <td>307511.000000</td>\n",
       "      <td>307511.000000</td>\n",
       "      <td>307511.000000</td>\n",
       "      <td>3.075110e+05</td>\n",
       "      <td>3.075110e+05</td>\n",
       "      <td>307499.000000</td>\n",
       "      <td>3.072330e+05</td>\n",
       "      <td>307511.000000</td>\n",
       "      <td>307511.000000</td>\n",
       "      <td>307511.000000</td>\n",
       "      <td>...</td>\n",
       "      <td>307511.000000</td>\n",
       "      <td>307511.000000</td>\n",
       "      <td>307511.000000</td>\n",
       "      <td>307511.000000</td>\n",
       "      <td>265992.000000</td>\n",
       "      <td>265992.000000</td>\n",
       "      <td>265992.000000</td>\n",
       "      <td>265992.000000</td>\n",
       "      <td>265992.000000</td>\n",
       "      <td>265992.000000</td>\n",
       "    </tr>\n",
       "    <tr>\n",
       "      <td>mean</td>\n",
       "      <td>278180.518577</td>\n",
       "      <td>0.080729</td>\n",
       "      <td>0.417052</td>\n",
       "      <td>1.687979e+05</td>\n",
       "      <td>5.990260e+05</td>\n",
       "      <td>27108.573909</td>\n",
       "      <td>5.383962e+05</td>\n",
       "      <td>0.020868</td>\n",
       "      <td>-16036.995067</td>\n",
       "      <td>63815.045904</td>\n",
       "      <td>...</td>\n",
       "      <td>0.008130</td>\n",
       "      <td>0.000595</td>\n",
       "      <td>0.000507</td>\n",
       "      <td>0.000335</td>\n",
       "      <td>0.006402</td>\n",
       "      <td>0.007000</td>\n",
       "      <td>0.034362</td>\n",
       "      <td>0.267395</td>\n",
       "      <td>0.265474</td>\n",
       "      <td>1.899974</td>\n",
       "    </tr>\n",
       "    <tr>\n",
       "      <td>std</td>\n",
       "      <td>102790.175348</td>\n",
       "      <td>0.272419</td>\n",
       "      <td>0.722121</td>\n",
       "      <td>2.371231e+05</td>\n",
       "      <td>4.024908e+05</td>\n",
       "      <td>14493.737315</td>\n",
       "      <td>3.694465e+05</td>\n",
       "      <td>0.013831</td>\n",
       "      <td>4363.988632</td>\n",
       "      <td>141275.766519</td>\n",
       "      <td>...</td>\n",
       "      <td>0.089798</td>\n",
       "      <td>0.024387</td>\n",
       "      <td>0.022518</td>\n",
       "      <td>0.018299</td>\n",
       "      <td>0.083849</td>\n",
       "      <td>0.110757</td>\n",
       "      <td>0.204685</td>\n",
       "      <td>0.916002</td>\n",
       "      <td>0.794056</td>\n",
       "      <td>1.869295</td>\n",
       "    </tr>\n",
       "    <tr>\n",
       "      <td>min</td>\n",
       "      <td>100002.000000</td>\n",
       "      <td>0.000000</td>\n",
       "      <td>0.000000</td>\n",
       "      <td>2.565000e+04</td>\n",
       "      <td>4.500000e+04</td>\n",
       "      <td>1615.500000</td>\n",
       "      <td>4.050000e+04</td>\n",
       "      <td>0.000290</td>\n",
       "      <td>-25229.000000</td>\n",
       "      <td>-17912.000000</td>\n",
       "      <td>...</td>\n",
       "      <td>0.000000</td>\n",
       "      <td>0.000000</td>\n",
       "      <td>0.000000</td>\n",
       "      <td>0.000000</td>\n",
       "      <td>0.000000</td>\n",
       "      <td>0.000000</td>\n",
       "      <td>0.000000</td>\n",
       "      <td>0.000000</td>\n",
       "      <td>0.000000</td>\n",
       "      <td>0.000000</td>\n",
       "    </tr>\n",
       "    <tr>\n",
       "      <td>25%</td>\n",
       "      <td>189145.500000</td>\n",
       "      <td>0.000000</td>\n",
       "      <td>0.000000</td>\n",
       "      <td>1.125000e+05</td>\n",
       "      <td>2.700000e+05</td>\n",
       "      <td>16524.000000</td>\n",
       "      <td>2.385000e+05</td>\n",
       "      <td>0.010006</td>\n",
       "      <td>-19682.000000</td>\n",
       "      <td>-2760.000000</td>\n",
       "      <td>...</td>\n",
       "      <td>0.000000</td>\n",
       "      <td>0.000000</td>\n",
       "      <td>0.000000</td>\n",
       "      <td>0.000000</td>\n",
       "      <td>0.000000</td>\n",
       "      <td>0.000000</td>\n",
       "      <td>0.000000</td>\n",
       "      <td>0.000000</td>\n",
       "      <td>0.000000</td>\n",
       "      <td>0.000000</td>\n",
       "    </tr>\n",
       "    <tr>\n",
       "      <td>50%</td>\n",
       "      <td>278202.000000</td>\n",
       "      <td>0.000000</td>\n",
       "      <td>0.000000</td>\n",
       "      <td>1.471500e+05</td>\n",
       "      <td>5.135310e+05</td>\n",
       "      <td>24903.000000</td>\n",
       "      <td>4.500000e+05</td>\n",
       "      <td>0.018850</td>\n",
       "      <td>-15750.000000</td>\n",
       "      <td>-1213.000000</td>\n",
       "      <td>...</td>\n",
       "      <td>0.000000</td>\n",
       "      <td>0.000000</td>\n",
       "      <td>0.000000</td>\n",
       "      <td>0.000000</td>\n",
       "      <td>0.000000</td>\n",
       "      <td>0.000000</td>\n",
       "      <td>0.000000</td>\n",
       "      <td>0.000000</td>\n",
       "      <td>0.000000</td>\n",
       "      <td>1.000000</td>\n",
       "    </tr>\n",
       "    <tr>\n",
       "      <td>75%</td>\n",
       "      <td>367142.500000</td>\n",
       "      <td>0.000000</td>\n",
       "      <td>1.000000</td>\n",
       "      <td>2.025000e+05</td>\n",
       "      <td>8.086500e+05</td>\n",
       "      <td>34596.000000</td>\n",
       "      <td>6.795000e+05</td>\n",
       "      <td>0.028663</td>\n",
       "      <td>-12413.000000</td>\n",
       "      <td>-289.000000</td>\n",
       "      <td>...</td>\n",
       "      <td>0.000000</td>\n",
       "      <td>0.000000</td>\n",
       "      <td>0.000000</td>\n",
       "      <td>0.000000</td>\n",
       "      <td>0.000000</td>\n",
       "      <td>0.000000</td>\n",
       "      <td>0.000000</td>\n",
       "      <td>0.000000</td>\n",
       "      <td>0.000000</td>\n",
       "      <td>3.000000</td>\n",
       "    </tr>\n",
       "    <tr>\n",
       "      <td>max</td>\n",
       "      <td>456255.000000</td>\n",
       "      <td>1.000000</td>\n",
       "      <td>19.000000</td>\n",
       "      <td>1.170000e+08</td>\n",
       "      <td>4.050000e+06</td>\n",
       "      <td>258025.500000</td>\n",
       "      <td>4.050000e+06</td>\n",
       "      <td>0.072508</td>\n",
       "      <td>-7489.000000</td>\n",
       "      <td>365243.000000</td>\n",
       "      <td>...</td>\n",
       "      <td>1.000000</td>\n",
       "      <td>1.000000</td>\n",
       "      <td>1.000000</td>\n",
       "      <td>1.000000</td>\n",
       "      <td>4.000000</td>\n",
       "      <td>9.000000</td>\n",
       "      <td>8.000000</td>\n",
       "      <td>27.000000</td>\n",
       "      <td>261.000000</td>\n",
       "      <td>25.000000</td>\n",
       "    </tr>\n",
       "  </tbody>\n",
       "</table>\n",
       "<p>8 rows × 106 columns</p>\n",
       "</div>"
      ],
      "text/plain": [
       "          SK_ID_CURR         TARGET   CNT_CHILDREN  AMT_INCOME_TOTAL  \\\n",
       "count  307511.000000  307511.000000  307511.000000      3.075110e+05   \n",
       "mean   278180.518577       0.080729       0.417052      1.687979e+05   \n",
       "std    102790.175348       0.272419       0.722121      2.371231e+05   \n",
       "min    100002.000000       0.000000       0.000000      2.565000e+04   \n",
       "25%    189145.500000       0.000000       0.000000      1.125000e+05   \n",
       "50%    278202.000000       0.000000       0.000000      1.471500e+05   \n",
       "75%    367142.500000       0.000000       1.000000      2.025000e+05   \n",
       "max    456255.000000       1.000000      19.000000      1.170000e+08   \n",
       "\n",
       "         AMT_CREDIT    AMT_ANNUITY  AMT_GOODS_PRICE  \\\n",
       "count  3.075110e+05  307499.000000     3.072330e+05   \n",
       "mean   5.990260e+05   27108.573909     5.383962e+05   \n",
       "std    4.024908e+05   14493.737315     3.694465e+05   \n",
       "min    4.500000e+04    1615.500000     4.050000e+04   \n",
       "25%    2.700000e+05   16524.000000     2.385000e+05   \n",
       "50%    5.135310e+05   24903.000000     4.500000e+05   \n",
       "75%    8.086500e+05   34596.000000     6.795000e+05   \n",
       "max    4.050000e+06  258025.500000     4.050000e+06   \n",
       "\n",
       "       REGION_POPULATION_RELATIVE     DAYS_BIRTH  DAYS_EMPLOYED  ...  \\\n",
       "count               307511.000000  307511.000000  307511.000000  ...   \n",
       "mean                     0.020868  -16036.995067   63815.045904  ...   \n",
       "std                      0.013831    4363.988632  141275.766519  ...   \n",
       "min                      0.000290  -25229.000000  -17912.000000  ...   \n",
       "25%                      0.010006  -19682.000000   -2760.000000  ...   \n",
       "50%                      0.018850  -15750.000000   -1213.000000  ...   \n",
       "75%                      0.028663  -12413.000000    -289.000000  ...   \n",
       "max                      0.072508   -7489.000000  365243.000000  ...   \n",
       "\n",
       "       FLAG_DOCUMENT_18  FLAG_DOCUMENT_19  FLAG_DOCUMENT_20  FLAG_DOCUMENT_21  \\\n",
       "count     307511.000000     307511.000000     307511.000000     307511.000000   \n",
       "mean           0.008130          0.000595          0.000507          0.000335   \n",
       "std            0.089798          0.024387          0.022518          0.018299   \n",
       "min            0.000000          0.000000          0.000000          0.000000   \n",
       "25%            0.000000          0.000000          0.000000          0.000000   \n",
       "50%            0.000000          0.000000          0.000000          0.000000   \n",
       "75%            0.000000          0.000000          0.000000          0.000000   \n",
       "max            1.000000          1.000000          1.000000          1.000000   \n",
       "\n",
       "       AMT_REQ_CREDIT_BUREAU_HOUR  AMT_REQ_CREDIT_BUREAU_DAY  \\\n",
       "count               265992.000000              265992.000000   \n",
       "mean                     0.006402                   0.007000   \n",
       "std                      0.083849                   0.110757   \n",
       "min                      0.000000                   0.000000   \n",
       "25%                      0.000000                   0.000000   \n",
       "50%                      0.000000                   0.000000   \n",
       "75%                      0.000000                   0.000000   \n",
       "max                      4.000000                   9.000000   \n",
       "\n",
       "       AMT_REQ_CREDIT_BUREAU_WEEK  AMT_REQ_CREDIT_BUREAU_MON  \\\n",
       "count               265992.000000              265992.000000   \n",
       "mean                     0.034362                   0.267395   \n",
       "std                      0.204685                   0.916002   \n",
       "min                      0.000000                   0.000000   \n",
       "25%                      0.000000                   0.000000   \n",
       "50%                      0.000000                   0.000000   \n",
       "75%                      0.000000                   0.000000   \n",
       "max                      8.000000                  27.000000   \n",
       "\n",
       "       AMT_REQ_CREDIT_BUREAU_QRT  AMT_REQ_CREDIT_BUREAU_YEAR  \n",
       "count              265992.000000               265992.000000  \n",
       "mean                    0.265474                    1.899974  \n",
       "std                     0.794056                    1.869295  \n",
       "min                     0.000000                    0.000000  \n",
       "25%                     0.000000                    0.000000  \n",
       "50%                     0.000000                    1.000000  \n",
       "75%                     0.000000                    3.000000  \n",
       "max                   261.000000                   25.000000  \n",
       "\n",
       "[8 rows x 106 columns]"
      ]
     },
     "execution_count": 6,
     "metadata": {},
     "output_type": "execute_result"
    }
   ],
   "source": [
    "app_train.describe()"
   ]
  },
  {
   "cell_type": "code",
   "execution_count": 12,
   "metadata": {},
   "outputs": [
    {
     "data": {
      "text/plain": [
       "278180.51857657125"
      ]
     },
     "execution_count": 12,
     "metadata": {},
     "output_type": "execute_result"
    }
   ],
   "source": [
    "app_train['SK_ID_CURR'].mean()"
   ]
  },
  {
   "cell_type": "code",
   "execution_count": 10,
   "metadata": {
    "scrolled": true
   },
   "outputs": [
    {
     "data": {
      "text/plain": [
       "102790.17534842374"
      ]
     },
     "execution_count": 10,
     "metadata": {},
     "output_type": "execute_result"
    }
   ],
   "source": [
    "app_train['SK_ID_CURR'].std()"
   ]
  },
  {
   "cell_type": "code",
   "execution_count": 13,
   "metadata": {},
   "outputs": [
    {
     "data": {
      "text/plain": [
       "0.08072881945686496"
      ]
     },
     "execution_count": 13,
     "metadata": {},
     "output_type": "execute_result"
    }
   ],
   "source": [
    "app_train['TARGET'].mean()"
   ]
  },
  {
   "cell_type": "code",
   "execution_count": 14,
   "metadata": {},
   "outputs": [
    {
     "data": {
      "text/plain": [
       "0.272418645647685"
      ]
     },
     "execution_count": 14,
     "metadata": {},
     "output_type": "execute_result"
    }
   ],
   "source": [
    "app_train['TARGET'].std()"
   ]
  },
  {
   "cell_type": "code",
   "execution_count": 15,
   "metadata": {},
   "outputs": [
    {
     "data": {
      "text/plain": [
       "0.4170517477423572"
      ]
     },
     "execution_count": 15,
     "metadata": {},
     "output_type": "execute_result"
    }
   ],
   "source": [
    "app_train['CNT_CHILDREN'].mean()"
   ]
  },
  {
   "cell_type": "code",
   "execution_count": 16,
   "metadata": {},
   "outputs": [
    {
     "data": {
      "text/plain": [
       "0.7221213844389559"
      ]
     },
     "execution_count": 16,
     "metadata": {},
     "output_type": "execute_result"
    }
   ],
   "source": [
    "app_train['CNT_CHILDREN'].std()"
   ]
  },
  {
   "cell_type": "code",
   "execution_count": 17,
   "metadata": {},
   "outputs": [
    {
     "data": {
      "text/plain": [
       "168797.9192969845"
      ]
     },
     "execution_count": 17,
     "metadata": {},
     "output_type": "execute_result"
    }
   ],
   "source": [
    "app_train['AMT_INCOME_TOTAL'].mean()"
   ]
  },
  {
   "cell_type": "code",
   "execution_count": 18,
   "metadata": {},
   "outputs": [
    {
     "data": {
      "text/plain": [
       "237123.14627883647"
      ]
     },
     "execution_count": 18,
     "metadata": {},
     "output_type": "execute_result"
    }
   ],
   "source": [
    "app_train['AMT_INCOME_TOTAL'].std()"
   ]
  },
  {
   "cell_type": "code",
   "execution_count": 20,
   "metadata": {},
   "outputs": [
    {
     "data": {
      "text/plain": [
       "599025.9997057016"
      ]
     },
     "execution_count": 20,
     "metadata": {},
     "output_type": "execute_result"
    }
   ],
   "source": [
    "app_train['AMT_CREDIT'].mean()"
   ]
  },
  {
   "cell_type": "code",
   "execution_count": 21,
   "metadata": {},
   "outputs": [
    {
     "data": {
      "text/plain": [
       "402490.776995946"
      ]
     },
     "execution_count": 21,
     "metadata": {},
     "output_type": "execute_result"
    }
   ],
   "source": [
    "app_train['AMT_CREDIT'].std()"
   ]
  },
  {
   "cell_type": "code",
   "execution_count": 22,
   "metadata": {},
   "outputs": [
    {
     "data": {
      "text/plain": [
       "27108.573909183444"
      ]
     },
     "execution_count": 22,
     "metadata": {},
     "output_type": "execute_result"
    }
   ],
   "source": [
    "app_train['AMT_ANNUITY'].mean()"
   ]
  },
  {
   "cell_type": "code",
   "execution_count": 23,
   "metadata": {},
   "outputs": [
    {
     "data": {
      "text/plain": [
       "14493.737315117392"
      ]
     },
     "execution_count": 23,
     "metadata": {},
     "output_type": "execute_result"
    }
   ],
   "source": [
    "app_train['AMT_ANNUITY'].std()"
   ]
  },
  {
   "cell_type": "code",
   "execution_count": 24,
   "metadata": {},
   "outputs": [
    {
     "data": {
      "text/plain": [
       "538396.2074288895"
      ]
     },
     "execution_count": 24,
     "metadata": {},
     "output_type": "execute_result"
    }
   ],
   "source": [
    "app_train['AMT_GOODS_PRICE'].mean()"
   ]
  },
  {
   "cell_type": "code",
   "execution_count": 25,
   "metadata": {},
   "outputs": [
    {
     "data": {
      "text/plain": [
       "369446.4605400129"
      ]
     },
     "execution_count": 25,
     "metadata": {},
     "output_type": "execute_result"
    }
   ],
   "source": [
    "app_train['AMT_GOODS_PRICE'].std()"
   ]
  },
  {
   "cell_type": "code",
   "execution_count": 26,
   "metadata": {},
   "outputs": [
    {
     "data": {
      "text/plain": [
       "0.02086811205778947"
      ]
     },
     "execution_count": 26,
     "metadata": {},
     "output_type": "execute_result"
    }
   ],
   "source": [
    "app_train['REGION_POPULATION_RELATIVE'].mean()"
   ]
  },
  {
   "cell_type": "code",
   "execution_count": 27,
   "metadata": {},
   "outputs": [
    {
     "data": {
      "text/plain": [
       "0.013831280122699869"
      ]
     },
     "execution_count": 27,
     "metadata": {},
     "output_type": "execute_result"
    }
   ],
   "source": [
    "app_train['REGION_POPULATION_RELATIVE'].std()"
   ]
  },
  {
   "cell_type": "code",
   "execution_count": 28,
   "metadata": {},
   "outputs": [
    {
     "data": {
      "text/plain": [
       "-16036.995066843137"
      ]
     },
     "execution_count": 28,
     "metadata": {},
     "output_type": "execute_result"
    }
   ],
   "source": [
    "app_train['DAYS_BIRTH'].mean()"
   ]
  },
  {
   "cell_type": "code",
   "execution_count": 35,
   "metadata": {},
   "outputs": [
    {
     "data": {
      "text/plain": [
       "4363.988631785526"
      ]
     },
     "execution_count": 35,
     "metadata": {},
     "output_type": "execute_result"
    }
   ],
   "source": [
    "app_train['DAYS_BIRTH'].std()"
   ]
  },
  {
   "cell_type": "code",
   "execution_count": 38,
   "metadata": {},
   "outputs": [
    {
     "data": {
      "text/html": [
       "<div>\n",
       "<style scoped>\n",
       "    .dataframe tbody tr th:only-of-type {\n",
       "        vertical-align: middle;\n",
       "    }\n",
       "\n",
       "    .dataframe tbody tr th {\n",
       "        vertical-align: top;\n",
       "    }\n",
       "\n",
       "    .dataframe thead th {\n",
       "        text-align: right;\n",
       "    }\n",
       "</style>\n",
       "<table border=\"1\" class=\"dataframe\">\n",
       "  <thead>\n",
       "    <tr style=\"text-align: right;\">\n",
       "      <th></th>\n",
       "      <th>SK_ID_CURR</th>\n",
       "      <th>TARGET</th>\n",
       "      <th>CNT_CHILDREN</th>\n",
       "      <th>AMT_INCOME_TOTAL</th>\n",
       "      <th>AMT_CREDIT</th>\n",
       "      <th>AMT_ANNUITY</th>\n",
       "      <th>AMT_GOODS_PRICE</th>\n",
       "      <th>REGION_POPULATION_RELATIVE</th>\n",
       "      <th>DAYS_BIRTH</th>\n",
       "      <th>DAYS_EMPLOYED</th>\n",
       "      <th>...</th>\n",
       "      <th>FLAG_DOCUMENT_18</th>\n",
       "      <th>FLAG_DOCUMENT_19</th>\n",
       "      <th>FLAG_DOCUMENT_20</th>\n",
       "      <th>FLAG_DOCUMENT_21</th>\n",
       "      <th>AMT_REQ_CREDIT_BUREAU_HOUR</th>\n",
       "      <th>AMT_REQ_CREDIT_BUREAU_DAY</th>\n",
       "      <th>AMT_REQ_CREDIT_BUREAU_WEEK</th>\n",
       "      <th>AMT_REQ_CREDIT_BUREAU_MON</th>\n",
       "      <th>AMT_REQ_CREDIT_BUREAU_QRT</th>\n",
       "      <th>AMT_REQ_CREDIT_BUREAU_YEAR</th>\n",
       "    </tr>\n",
       "  </thead>\n",
       "  <tbody>\n",
       "    <tr>\n",
       "      <td>SK_ID_CURR</td>\n",
       "      <td>1.056582e+10</td>\n",
       "      <td>-59.041266</td>\n",
       "      <td>-83.819815</td>\n",
       "      <td>-4.436777e+07</td>\n",
       "      <td>-1.419730e+07</td>\n",
       "      <td>-6.449708e+05</td>\n",
       "      <td>-8.802091e+06</td>\n",
       "      <td>1.207224</td>\n",
       "      <td>-6.727735e+05</td>\n",
       "      <td>1.984012e+07</td>\n",
       "      <td>...</td>\n",
       "      <td>4.698847</td>\n",
       "      <td>0.419252</td>\n",
       "      <td>2.482850e+00</td>\n",
       "      <td>5.313017e-01</td>\n",
       "      <td>-23.040329</td>\n",
       "      <td>-24.972988</td>\n",
       "      <td>44.172238</td>\n",
       "      <td>45.722000</td>\n",
       "      <td>83.687998</td>\n",
       "      <td>895.504293</td>\n",
       "    </tr>\n",
       "    <tr>\n",
       "      <td>TARGET</td>\n",
       "      <td>-5.904127e+01</td>\n",
       "      <td>0.074212</td>\n",
       "      <td>0.003774</td>\n",
       "      <td>-2.572156e+02</td>\n",
       "      <td>-3.329871e+03</td>\n",
       "      <td>-5.060535e+01</td>\n",
       "      <td>-3.990170e+03</td>\n",
       "      <td>-0.000140</td>\n",
       "      <td>9.301338e+01</td>\n",
       "      <td>-1.729247e+03</td>\n",
       "      <td>...</td>\n",
       "      <td>-0.000195</td>\n",
       "      <td>-0.000009</td>\n",
       "      <td>1.321271e-06</td>\n",
       "      <td>1.848698e-05</td>\n",
       "      <td>0.000021</td>\n",
       "      <td>0.000080</td>\n",
       "      <td>0.000043</td>\n",
       "      <td>-0.003047</td>\n",
       "      <td>-0.000429</td>\n",
       "      <td>0.009943</td>\n",
       "    </tr>\n",
       "    <tr>\n",
       "      <td>CNT_CHILDREN</td>\n",
       "      <td>-8.381982e+01</td>\n",
       "      <td>0.003774</td>\n",
       "      <td>0.521459</td>\n",
       "      <td>2.205820e+03</td>\n",
       "      <td>6.235671e+02</td>\n",
       "      <td>2.237060e+02</td>\n",
       "      <td>-4.874046e+02</td>\n",
       "      <td>-0.000255</td>\n",
       "      <td>1.042894e+03</td>\n",
       "      <td>-2.446582e+04</td>\n",
       "      <td>...</td>\n",
       "      <td>0.000261</td>\n",
       "      <td>0.000015</td>\n",
       "      <td>1.606428e-05</td>\n",
       "      <td>-3.237726e-05</td>\n",
       "      <td>-0.000025</td>\n",
       "      <td>-0.000029</td>\n",
       "      <td>-0.000362</td>\n",
       "      <td>-0.007184</td>\n",
       "      <td>-0.004515</td>\n",
       "      <td>-0.056364</td>\n",
       "    </tr>\n",
       "    <tr>\n",
       "      <td>AMT_INCOME_TOTAL</td>\n",
       "      <td>-4.436777e+07</td>\n",
       "      <td>-257.215642</td>\n",
       "      <td>2205.819942</td>\n",
       "      <td>5.622739e+10</td>\n",
       "      <td>1.497168e+10</td>\n",
       "      <td>6.587001e+08</td>\n",
       "      <td>1.398799e+10</td>\n",
       "      <td>245.308712</td>\n",
       "      <td>2.820962e+07</td>\n",
       "      <td>-2.151468e+09</td>\n",
       "      <td>...</td>\n",
       "      <td>66.645285</td>\n",
       "      <td>13.926151</td>\n",
       "      <td>1.292048e+00</td>\n",
       "      <td>-2.554992e+00</td>\n",
       "      <td>14.770630</td>\n",
       "      <td>80.990699</td>\n",
       "      <td>121.371432</td>\n",
       "      <td>5619.742206</td>\n",
       "      <td>958.417938</td>\n",
       "      <td>5427.589564</td>\n",
       "    </tr>\n",
       "    <tr>\n",
       "      <td>AMT_CREDIT</td>\n",
       "      <td>-1.419730e+07</td>\n",
       "      <td>-3329.870551</td>\n",
       "      <td>623.567129</td>\n",
       "      <td>1.497168e+10</td>\n",
       "      <td>1.619988e+11</td>\n",
       "      <td>4.492695e+09</td>\n",
       "      <td>1.467708e+11</td>\n",
       "      <td>555.237032</td>\n",
       "      <td>-9.737131e+07</td>\n",
       "      <td>-3.800575e+09</td>\n",
       "      <td>...</td>\n",
       "      <td>1240.755318</td>\n",
       "      <td>206.931388</td>\n",
       "      <td>2.811662e+02</td>\n",
       "      <td>-1.189319e+02</td>\n",
       "      <td>-132.577892</td>\n",
       "      <td>189.999626</td>\n",
       "      <td>-105.628431</td>\n",
       "      <td>20190.890033</td>\n",
       "      <td>5119.011266</td>\n",
       "      <td>-36660.699977</td>\n",
       "    </tr>\n",
       "    <tr>\n",
       "      <td>...</td>\n",
       "      <td>...</td>\n",
       "      <td>...</td>\n",
       "      <td>...</td>\n",
       "      <td>...</td>\n",
       "      <td>...</td>\n",
       "      <td>...</td>\n",
       "      <td>...</td>\n",
       "      <td>...</td>\n",
       "      <td>...</td>\n",
       "      <td>...</td>\n",
       "      <td>...</td>\n",
       "      <td>...</td>\n",
       "      <td>...</td>\n",
       "      <td>...</td>\n",
       "      <td>...</td>\n",
       "      <td>...</td>\n",
       "      <td>...</td>\n",
       "      <td>...</td>\n",
       "      <td>...</td>\n",
       "      <td>...</td>\n",
       "      <td>...</td>\n",
       "    </tr>\n",
       "    <tr>\n",
       "      <td>AMT_REQ_CREDIT_BUREAU_DAY</td>\n",
       "      <td>-2.497299e+01</td>\n",
       "      <td>0.000080</td>\n",
       "      <td>-0.000029</td>\n",
       "      <td>8.099070e+01</td>\n",
       "      <td>1.899996e+02</td>\n",
       "      <td>3.483036e+00</td>\n",
       "      <td>1.924912e+02</td>\n",
       "      <td>0.000002</td>\n",
       "      <td>1.076188e+00</td>\n",
       "      <td>7.381734e+00</td>\n",
       "      <td>...</td>\n",
       "      <td>0.000136</td>\n",
       "      <td>0.000003</td>\n",
       "      <td>-3.196824e-07</td>\n",
       "      <td>-2.236985e-06</td>\n",
       "      <td>0.002139</td>\n",
       "      <td>0.012267</td>\n",
       "      <td>0.004929</td>\n",
       "      <td>-0.000533</td>\n",
       "      <td>-0.000388</td>\n",
       "      <td>-0.000695</td>\n",
       "    </tr>\n",
       "    <tr>\n",
       "      <td>AMT_REQ_CREDIT_BUREAU_WEEK</td>\n",
       "      <td>4.417224e+01</td>\n",
       "      <td>0.000043</td>\n",
       "      <td>-0.000362</td>\n",
       "      <td>1.213714e+02</td>\n",
       "      <td>-1.056284e+02</td>\n",
       "      <td>4.087934e+01</td>\n",
       "      <td>-7.655799e+01</td>\n",
       "      <td>-0.000006</td>\n",
       "      <td>-1.178121e+00</td>\n",
       "      <td>8.871663e+01</td>\n",
       "      <td>...</td>\n",
       "      <td>-0.000088</td>\n",
       "      <td>-0.000007</td>\n",
       "      <td>-8.745033e-06</td>\n",
       "      <td>2.978878e-07</td>\n",
       "      <td>0.000081</td>\n",
       "      <td>0.004929</td>\n",
       "      <td>0.041896</td>\n",
       "      <td>-0.002643</td>\n",
       "      <td>-0.002457</td>\n",
       "      <td>0.007238</td>\n",
       "    </tr>\n",
       "    <tr>\n",
       "      <td>AMT_REQ_CREDIT_BUREAU_MON</td>\n",
       "      <td>4.572200e+01</td>\n",
       "      <td>-0.003047</td>\n",
       "      <td>-0.007184</td>\n",
       "      <td>5.619742e+03</td>\n",
       "      <td>2.019089e+04</td>\n",
       "      <td>5.160230e+02</td>\n",
       "      <td>1.920311e+04</td>\n",
       "      <td>0.000990</td>\n",
       "      <td>5.414437e+00</td>\n",
       "      <td>-4.453034e+03</td>\n",
       "      <td>...</td>\n",
       "      <td>-0.000132</td>\n",
       "      <td>-0.000063</td>\n",
       "      <td>2.839846e-05</td>\n",
       "      <td>-5.913206e-05</td>\n",
       "      <td>-0.000001</td>\n",
       "      <td>-0.000533</td>\n",
       "      <td>-0.002643</td>\n",
       "      <td>0.839060</td>\n",
       "      <td>-0.005665</td>\n",
       "      <td>-0.008518</td>\n",
       "    </tr>\n",
       "    <tr>\n",
       "      <td>AMT_REQ_CREDIT_BUREAU_QRT</td>\n",
       "      <td>8.368800e+01</td>\n",
       "      <td>-0.000429</td>\n",
       "      <td>-0.004515</td>\n",
       "      <td>9.584179e+02</td>\n",
       "      <td>5.119011e+03</td>\n",
       "      <td>1.156772e+02</td>\n",
       "      <td>4.847840e+03</td>\n",
       "      <td>-0.000014</td>\n",
       "      <td>-4.037508e+01</td>\n",
       "      <td>1.719070e+03</td>\n",
       "      <td>...</td>\n",
       "      <td>-0.000375</td>\n",
       "      <td>-0.000031</td>\n",
       "      <td>-1.935589e-05</td>\n",
       "      <td>-2.844195e-05</td>\n",
       "      <td>-0.000181</td>\n",
       "      <td>-0.000388</td>\n",
       "      <td>-0.002457</td>\n",
       "      <td>-0.005665</td>\n",
       "      <td>0.630524</td>\n",
       "      <td>0.113117</td>\n",
       "    </tr>\n",
       "    <tr>\n",
       "      <td>AMT_REQ_CREDIT_BUREAU_YEAR</td>\n",
       "      <td>8.955043e+02</td>\n",
       "      <td>0.009943</td>\n",
       "      <td>-0.056364</td>\n",
       "      <td>5.427590e+03</td>\n",
       "      <td>-3.666070e+04</td>\n",
       "      <td>-3.044840e+02</td>\n",
       "      <td>-3.541355e+04</td>\n",
       "      <td>0.000026</td>\n",
       "      <td>-5.798370e+02</td>\n",
       "      <td>1.318340e+04</td>\n",
       "      <td>...</td>\n",
       "      <td>-0.008170</td>\n",
       "      <td>-0.000328</td>\n",
       "      <td>-5.469961e-04</td>\n",
       "      <td>-1.823288e-04</td>\n",
       "      <td>-0.000721</td>\n",
       "      <td>-0.000695</td>\n",
       "      <td>0.007238</td>\n",
       "      <td>-0.008518</td>\n",
       "      <td>0.113117</td>\n",
       "      <td>3.494264</td>\n",
       "    </tr>\n",
       "  </tbody>\n",
       "</table>\n",
       "<p>106 rows × 106 columns</p>\n",
       "</div>"
      ],
      "text/plain": [
       "                              SK_ID_CURR       TARGET  CNT_CHILDREN  \\\n",
       "SK_ID_CURR                  1.056582e+10   -59.041266    -83.819815   \n",
       "TARGET                     -5.904127e+01     0.074212      0.003774   \n",
       "CNT_CHILDREN               -8.381982e+01     0.003774      0.521459   \n",
       "AMT_INCOME_TOTAL           -4.436777e+07  -257.215642   2205.819942   \n",
       "AMT_CREDIT                 -1.419730e+07 -3329.870551    623.567129   \n",
       "...                                  ...          ...           ...   \n",
       "AMT_REQ_CREDIT_BUREAU_DAY  -2.497299e+01     0.000080     -0.000029   \n",
       "AMT_REQ_CREDIT_BUREAU_WEEK  4.417224e+01     0.000043     -0.000362   \n",
       "AMT_REQ_CREDIT_BUREAU_MON   4.572200e+01    -0.003047     -0.007184   \n",
       "AMT_REQ_CREDIT_BUREAU_QRT   8.368800e+01    -0.000429     -0.004515   \n",
       "AMT_REQ_CREDIT_BUREAU_YEAR  8.955043e+02     0.009943     -0.056364   \n",
       "\n",
       "                            AMT_INCOME_TOTAL    AMT_CREDIT   AMT_ANNUITY  \\\n",
       "SK_ID_CURR                     -4.436777e+07 -1.419730e+07 -6.449708e+05   \n",
       "TARGET                         -2.572156e+02 -3.329871e+03 -5.060535e+01   \n",
       "CNT_CHILDREN                    2.205820e+03  6.235671e+02  2.237060e+02   \n",
       "AMT_INCOME_TOTAL                5.622739e+10  1.497168e+10  6.587001e+08   \n",
       "AMT_CREDIT                      1.497168e+10  1.619988e+11  4.492695e+09   \n",
       "...                                      ...           ...           ...   \n",
       "AMT_REQ_CREDIT_BUREAU_DAY       8.099070e+01  1.899996e+02  3.483036e+00   \n",
       "AMT_REQ_CREDIT_BUREAU_WEEK      1.213714e+02 -1.056284e+02  4.087934e+01   \n",
       "AMT_REQ_CREDIT_BUREAU_MON       5.619742e+03  2.019089e+04  5.160230e+02   \n",
       "AMT_REQ_CREDIT_BUREAU_QRT       9.584179e+02  5.119011e+03  1.156772e+02   \n",
       "AMT_REQ_CREDIT_BUREAU_YEAR      5.427590e+03 -3.666070e+04 -3.044840e+02   \n",
       "\n",
       "                            AMT_GOODS_PRICE  REGION_POPULATION_RELATIVE  \\\n",
       "SK_ID_CURR                    -8.802091e+06                    1.207224   \n",
       "TARGET                        -3.990170e+03                   -0.000140   \n",
       "CNT_CHILDREN                  -4.874046e+02                   -0.000255   \n",
       "AMT_INCOME_TOTAL               1.398799e+10                  245.308712   \n",
       "AMT_CREDIT                     1.467708e+11                  555.237032   \n",
       "...                                     ...                         ...   \n",
       "AMT_REQ_CREDIT_BUREAU_DAY      1.924912e+02                    0.000002   \n",
       "AMT_REQ_CREDIT_BUREAU_WEEK    -7.655799e+01                   -0.000006   \n",
       "AMT_REQ_CREDIT_BUREAU_MON      1.920311e+04                    0.000990   \n",
       "AMT_REQ_CREDIT_BUREAU_QRT      4.847840e+03                   -0.000014   \n",
       "AMT_REQ_CREDIT_BUREAU_YEAR    -3.541355e+04                    0.000026   \n",
       "\n",
       "                              DAYS_BIRTH  DAYS_EMPLOYED  ...  \\\n",
       "SK_ID_CURR                 -6.727735e+05   1.984012e+07  ...   \n",
       "TARGET                      9.301338e+01  -1.729247e+03  ...   \n",
       "CNT_CHILDREN                1.042894e+03  -2.446582e+04  ...   \n",
       "AMT_INCOME_TOTAL            2.820962e+07  -2.151468e+09  ...   \n",
       "AMT_CREDIT                 -9.737131e+07  -3.800575e+09  ...   \n",
       "...                                  ...            ...  ...   \n",
       "AMT_REQ_CREDIT_BUREAU_DAY   1.076188e+00   7.381734e+00  ...   \n",
       "AMT_REQ_CREDIT_BUREAU_WEEK -1.178121e+00   8.871663e+01  ...   \n",
       "AMT_REQ_CREDIT_BUREAU_MON   5.414437e+00  -4.453034e+03  ...   \n",
       "AMT_REQ_CREDIT_BUREAU_QRT  -4.037508e+01   1.719070e+03  ...   \n",
       "AMT_REQ_CREDIT_BUREAU_YEAR -5.798370e+02   1.318340e+04  ...   \n",
       "\n",
       "                            FLAG_DOCUMENT_18  FLAG_DOCUMENT_19  \\\n",
       "SK_ID_CURR                          4.698847          0.419252   \n",
       "TARGET                             -0.000195         -0.000009   \n",
       "CNT_CHILDREN                        0.000261          0.000015   \n",
       "AMT_INCOME_TOTAL                   66.645285         13.926151   \n",
       "AMT_CREDIT                       1240.755318        206.931388   \n",
       "...                                      ...               ...   \n",
       "AMT_REQ_CREDIT_BUREAU_DAY           0.000136          0.000003   \n",
       "AMT_REQ_CREDIT_BUREAU_WEEK         -0.000088         -0.000007   \n",
       "AMT_REQ_CREDIT_BUREAU_MON          -0.000132         -0.000063   \n",
       "AMT_REQ_CREDIT_BUREAU_QRT          -0.000375         -0.000031   \n",
       "AMT_REQ_CREDIT_BUREAU_YEAR         -0.008170         -0.000328   \n",
       "\n",
       "                            FLAG_DOCUMENT_20  FLAG_DOCUMENT_21  \\\n",
       "SK_ID_CURR                      2.482850e+00      5.313017e-01   \n",
       "TARGET                          1.321271e-06      1.848698e-05   \n",
       "CNT_CHILDREN                    1.606428e-05     -3.237726e-05   \n",
       "AMT_INCOME_TOTAL                1.292048e+00     -2.554992e+00   \n",
       "AMT_CREDIT                      2.811662e+02     -1.189319e+02   \n",
       "...                                      ...               ...   \n",
       "AMT_REQ_CREDIT_BUREAU_DAY      -3.196824e-07     -2.236985e-06   \n",
       "AMT_REQ_CREDIT_BUREAU_WEEK     -8.745033e-06      2.978878e-07   \n",
       "AMT_REQ_CREDIT_BUREAU_MON       2.839846e-05     -5.913206e-05   \n",
       "AMT_REQ_CREDIT_BUREAU_QRT      -1.935589e-05     -2.844195e-05   \n",
       "AMT_REQ_CREDIT_BUREAU_YEAR     -5.469961e-04     -1.823288e-04   \n",
       "\n",
       "                            AMT_REQ_CREDIT_BUREAU_HOUR  \\\n",
       "SK_ID_CURR                                  -23.040329   \n",
       "TARGET                                        0.000021   \n",
       "CNT_CHILDREN                                 -0.000025   \n",
       "AMT_INCOME_TOTAL                             14.770630   \n",
       "AMT_CREDIT                                 -132.577892   \n",
       "...                                                ...   \n",
       "AMT_REQ_CREDIT_BUREAU_DAY                     0.002139   \n",
       "AMT_REQ_CREDIT_BUREAU_WEEK                    0.000081   \n",
       "AMT_REQ_CREDIT_BUREAU_MON                    -0.000001   \n",
       "AMT_REQ_CREDIT_BUREAU_QRT                    -0.000181   \n",
       "AMT_REQ_CREDIT_BUREAU_YEAR                   -0.000721   \n",
       "\n",
       "                            AMT_REQ_CREDIT_BUREAU_DAY  \\\n",
       "SK_ID_CURR                                 -24.972988   \n",
       "TARGET                                       0.000080   \n",
       "CNT_CHILDREN                                -0.000029   \n",
       "AMT_INCOME_TOTAL                            80.990699   \n",
       "AMT_CREDIT                                 189.999626   \n",
       "...                                               ...   \n",
       "AMT_REQ_CREDIT_BUREAU_DAY                    0.012267   \n",
       "AMT_REQ_CREDIT_BUREAU_WEEK                   0.004929   \n",
       "AMT_REQ_CREDIT_BUREAU_MON                   -0.000533   \n",
       "AMT_REQ_CREDIT_BUREAU_QRT                   -0.000388   \n",
       "AMT_REQ_CREDIT_BUREAU_YEAR                  -0.000695   \n",
       "\n",
       "                            AMT_REQ_CREDIT_BUREAU_WEEK  \\\n",
       "SK_ID_CURR                                   44.172238   \n",
       "TARGET                                        0.000043   \n",
       "CNT_CHILDREN                                 -0.000362   \n",
       "AMT_INCOME_TOTAL                            121.371432   \n",
       "AMT_CREDIT                                 -105.628431   \n",
       "...                                                ...   \n",
       "AMT_REQ_CREDIT_BUREAU_DAY                     0.004929   \n",
       "AMT_REQ_CREDIT_BUREAU_WEEK                    0.041896   \n",
       "AMT_REQ_CREDIT_BUREAU_MON                    -0.002643   \n",
       "AMT_REQ_CREDIT_BUREAU_QRT                    -0.002457   \n",
       "AMT_REQ_CREDIT_BUREAU_YEAR                    0.007238   \n",
       "\n",
       "                            AMT_REQ_CREDIT_BUREAU_MON  \\\n",
       "SK_ID_CURR                                  45.722000   \n",
       "TARGET                                      -0.003047   \n",
       "CNT_CHILDREN                                -0.007184   \n",
       "AMT_INCOME_TOTAL                          5619.742206   \n",
       "AMT_CREDIT                               20190.890033   \n",
       "...                                               ...   \n",
       "AMT_REQ_CREDIT_BUREAU_DAY                   -0.000533   \n",
       "AMT_REQ_CREDIT_BUREAU_WEEK                  -0.002643   \n",
       "AMT_REQ_CREDIT_BUREAU_MON                    0.839060   \n",
       "AMT_REQ_CREDIT_BUREAU_QRT                   -0.005665   \n",
       "AMT_REQ_CREDIT_BUREAU_YEAR                  -0.008518   \n",
       "\n",
       "                            AMT_REQ_CREDIT_BUREAU_QRT  \\\n",
       "SK_ID_CURR                                  83.687998   \n",
       "TARGET                                      -0.000429   \n",
       "CNT_CHILDREN                                -0.004515   \n",
       "AMT_INCOME_TOTAL                           958.417938   \n",
       "AMT_CREDIT                                5119.011266   \n",
       "...                                               ...   \n",
       "AMT_REQ_CREDIT_BUREAU_DAY                   -0.000388   \n",
       "AMT_REQ_CREDIT_BUREAU_WEEK                  -0.002457   \n",
       "AMT_REQ_CREDIT_BUREAU_MON                   -0.005665   \n",
       "AMT_REQ_CREDIT_BUREAU_QRT                    0.630524   \n",
       "AMT_REQ_CREDIT_BUREAU_YEAR                   0.113117   \n",
       "\n",
       "                            AMT_REQ_CREDIT_BUREAU_YEAR  \n",
       "SK_ID_CURR                                  895.504293  \n",
       "TARGET                                        0.009943  \n",
       "CNT_CHILDREN                                 -0.056364  \n",
       "AMT_INCOME_TOTAL                           5427.589564  \n",
       "AMT_CREDIT                               -36660.699977  \n",
       "...                                                ...  \n",
       "AMT_REQ_CREDIT_BUREAU_DAY                    -0.000695  \n",
       "AMT_REQ_CREDIT_BUREAU_WEEK                    0.007238  \n",
       "AMT_REQ_CREDIT_BUREAU_MON                    -0.008518  \n",
       "AMT_REQ_CREDIT_BUREAU_QRT                     0.113117  \n",
       "AMT_REQ_CREDIT_BUREAU_YEAR                    3.494264  \n",
       "\n",
       "[106 rows x 106 columns]"
      ]
     },
     "execution_count": 38,
     "metadata": {},
     "output_type": "execute_result"
    }
   ],
   "source": [
    "app_train.cov()"
   ]
  },
  {
   "cell_type": "code",
   "execution_count": null,
   "metadata": {},
   "outputs": [],
   "source": [
    "fig, axes = plt.subplots(1)\n",
    "data = pd.Series(app_train['SK_ID_CURR'], app_train)\n",
    "data.plot(kind='bar', ax = axes, color='k', alpha=0.7)"
   ]
  },
  {
   "cell_type": "code",
   "execution_count": null,
   "metadata": {},
   "outputs": [],
   "source": []
  },
  {
   "cell_type": "code",
   "execution_count": null,
   "metadata": {},
   "outputs": [],
   "source": []
  },
  {
   "cell_type": "code",
   "execution_count": null,
   "metadata": {},
   "outputs": [],
   "source": []
  },
  {
   "cell_type": "code",
   "execution_count": null,
   "metadata": {},
   "outputs": [],
   "source": []
  },
  {
   "cell_type": "code",
   "execution_count": null,
   "metadata": {},
   "outputs": [],
   "source": []
  }
 ],
 "metadata": {
  "kernelspec": {
   "display_name": "Python 3",
   "language": "python",
   "name": "python3"
  },
  "language_info": {
   "codemirror_mode": {
    "name": "ipython",
    "version": 3
   },
   "file_extension": ".py",
   "mimetype": "text/x-python",
   "name": "python",
   "nbconvert_exporter": "python",
   "pygments_lexer": "ipython3",
   "version": "3.7.4"
  }
 },
 "nbformat": 4,
 "nbformat_minor": 2
}
