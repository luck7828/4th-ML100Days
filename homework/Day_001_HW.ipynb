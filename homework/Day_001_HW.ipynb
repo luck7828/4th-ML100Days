{
 "cells": [
  {
   "cell_type": "markdown",
   "metadata": {},
   "source": [
    "## 練習時間\n",
    "#### 請寫一個函式用來計算 Mean Square Error\n",
    "$ MSE = \\frac{1}{n}\\sum_{i=1}^{n}{(Y_i - \\hat{Y}_i)^2} $\n",
    "\n",
    "### Hint: [如何取平方](https://googoodesign.gitbooks.io/-ezpython/unit-1.html)"
   ]
  },
  {
   "cell_type": "markdown",
   "metadata": {},
   "source": [
    "# [作業目標]\n",
    "- 仿造範例的MAE函數, 自己寫一個MSE函數(參考上面公式)"
   ]
  },
  {
   "cell_type": "markdown",
   "metadata": {},
   "source": [
    "# [作業重點]\n",
    "- 注意程式的縮排\n",
    "- 是否能將數學公式, 轉換為 Python 的函式組合? (In[2], Out[2])"
   ]
  },
  {
   "cell_type": "code",
   "execution_count": 6,
   "metadata": {},
   "outputs": [],
   "source": [
    "# 載入基礎套件與代稱\n",
    "import numpy as np\n",
    "import matplotlib.pyplot as plt"
   ]
  },
  {
   "cell_type": "code",
   "execution_count": 11,
   "metadata": {},
   "outputs": [],
   "source": [
    "def mean_absolute_error(y, yp):\n",
    "    \"\"\"\n",
    "    計算 MAE\n",
    "    Args:\n",
    "        - y: 實際值\n",
    "        - yp: 預測值\n",
    "    Return:\n",
    "        - mae: MAE\n",
    "    \"\"\"\n",
    "    mae = MAE = sum(abs(y - yp)) / len(y)\n",
    "    return mae\n",
    "\n",
    "# 定義 mean_squared_error 這個函數, 計算並傳回 MSE\n",
    "def mean_squared_error(y,yp):\n",
    "    \"\"\"\n",
    "    請完成這個 Function 後往下執行\n",
    "    計算 MSE\n",
    "    Args:\n",
    "        - y: 實際值\n",
    "        - yp: 預測值\n",
    "    Return:\n",
    "        - mse: MSE\n",
    "    \"\"\"\n",
    "    mse = MSE = sum(abs(y-yp)**2)/ len(y)\n",
    "    return mse"
   ]
  },
  {
   "cell_type": "code",
   "execution_count": 12,
   "metadata": {},
   "outputs": [
    {
     "data": {
      "image/png": "[encoded data removed]",
      "text/plain": [
       "<Figure size 432x288 with 1 Axes>"
      ]
     },
     "metadata": {
      "needs_background": "light"
     },
     "output_type": "display_data"
    }
   ],
   "source": [
    "# 與範例相同, 不另外解說\n",
    "w = 3\n",
    "b = 0.5\n",
    "x_lin = np.linspace(0, 100, 101)\n",
    "y = (x_lin + np.random.randn(101) * 5) * w + b\n",
    "\n",
    "plt.plot(x_lin, y, 'b.', label = 'data points')\n",
    "plt.title(\"Assume we have data points\")\n",
    "plt.legend(loc = 2)\n",
    "plt.show()"
   ]
  },
  {
   "cell_type": "code",
   "execution_count": 13,
   "metadata": {},
   "outputs": [
    {
     "data": {
      "image/png": "[encoded data removed]",
      "text/plain": [
       "<Figure size 432x288 with 1 Axes>"
      ]
     },
     "metadata": {
      "needs_background": "light"
     },
     "output_type": "display_data"
    }
   ],
   "source": [
    "# 與範例相同, 不另外解說\n",
    "y_hat = x_lin * w + b\n",
    "plt.plot(x_lin, y, 'b.', label = 'data')\n",
    "plt.plot(x_lin, y_hat, 'r-', label = 'prediction')\n",
    "plt.title(\"Assume we have data points (And the prediction)\")\n",
    "plt.legend(loc = 2)\n",
    "plt.show()"
   ]
  },
  {
   "cell_type": "code",
   "execution_count": 14,
   "metadata": {},
   "outputs": [
    {
     "name": "stdout",
     "output_type": "stream",
     "text": [
      "The Mean squared error is 198.080\n",
      "The Mean absolute error is 11.204\n"
     ]
    }
   ],
   "source": [
    "# 執行 Function, 確認有沒有正常執行\n",
    "MSE = mean_squared_error(y, y_hat)\n",
    "MAE = mean_absolute_error(y, y_hat)\n",
    "print(\"The Mean squared error is %.3f\" % (MSE))\n",
    "print(\"The Mean absolute error is %.3f\" % (MAE))"
   ]
  },
  {
   "cell_type": "markdown",
   "metadata": {},
   "source": [
    "# [作業2]\n",
    "\n",
    "請上 Kaggle, 在 Competitions 或 Dataset 中找一組競賽或資料並寫下：\n",
    "\n",
    "1. 你選的這組資料為何重要\n",
    "\n",
    "2. 資料從何而來 (tips: 譬如提供者是誰、以什麼方式蒐集)\n",
    "\n",
    "3. 蒐集而來的資料型態為何\n",
    "\n",
    "4. 這組資料想解決的問題如何評估\n",
    "\n",
    "1.\n",
    "\n",
    "    a.目前武漢肺炎成為全球性的傳染疾病，生物技術研究人員發現蝙蝠sars冠狀病毒與冠狀病毒RNA的各種種質和突變之間具有相似性。\n",
    "    \n",
    "    b.病毒很難理解，因為它們經常改變，變異或以其他方式遵循某種進化方式。對於我們個人而言，這是壓倒性的，但是作為一個社區，我們可以構建工具，視覺效果和方法，以期更好地了解功能，原因和可能的解決方案。\n",
    "\n",
    "2.\n",
    "\n",
    "    Kaggle-Dataset:\n",
    "        SARS CORONAVIRUS ACCESSION\n",
    "    資料來源:\n",
    "        國家生物技術信息中心（NCBI）。(研究的數據可公開獲得，並且數據下載後無需修改)\n",
    "        疾病控制與預防中心（CDC）提供了COVID-19冠狀病毒顆粒的圖像。\n",
    "\n",
    "3.\n",
    "\n",
    "    病毒分類:\n",
    "        SARS-CoV-2 (genbank)\n",
    "        SARS2\n",
    "        2019-nCov\n",
    "        COVID-19\n",
    "        COVID-19 virus\n",
    "        Wuhan corona virus\n",
    "        Wuhan seafood market pnuemonia virus\n",
    "    檔案:\n",
    "        a.MN997409.1-4NY0T82X016-Alignment-HitTable\n",
    "          比對命中表比較病毒核苷酸的序列中相同的匹配，或相似匹配的百分比，鹼基對及其長度。\n",
    "        b.SARS_CORONAVIRUS_287BP_MN975263.1_accession_nucleotide\n",
    "            column:\n",
    "                Accession\t\n",
    "                Release_Date\t\n",
    "                Species\tGenus\t\n",
    "                Family\t\n",
    "                Length\t\n",
    "                Nuc._Completeness\t\n",
    "                Genotype\t\n",
    "                Genome_Region\t\n",
    "                Segment\tGeo_Location\t\n",
    "                Host\t\n",
    "                Isolation_Source\t\n",
    "                Collection_Date\t\n",
    "                BioSample\t\n",
    "                GenBank_Title\n",
    "        c.SARS_CORONAVIRUS_287BP_MN975263.1_accession_protein\n",
    "            column:\n",
    "                Accession\t\n",
    "                Release_Date\t\n",
    "                Species\t\n",
    "                Genus\t\n",
    "                Family\t\n",
    "                Length\t\n",
    "                Genotype\t\n",
    "                Genome_Region\t\n",
    "                Segment\t\n",
    "                Protein\tGeo_Location\t\n",
    "                Host\t\n",
    "                Isolation_Source\t\n",
    "                Collection_Date\tBioSample\t\n",
    "                GenBank_Title\n",
    "\n",
    "4.\n",
    "\n",
    "    探索具有完整基因組的SARS冠狀病毒的突變\n",
    "\n",
    "\n",
    "# [作業3]\n",
    "\n",
    "想像你經營一個自由載客車隊，你希望能透過數據分析以提升業績，請你思考並描述你如何規劃整體的分析/解決方案：\n",
    "\n",
    "1. 核心問題為何 (tips：如何定義 「提升業績 & 你的假設」)\n",
    "\n",
    "   提升業績:\n",
    "   \n",
    "       和車子、司機、客人、時間有關係。目的為了妥善分配資源\n",
    "   服務區域:\n",
    "   \n",
    "       東、南、西、北區\n",
    "   服務時間:\n",
    "   \n",
    "       星期一 ~ 星期天，全天無休\n",
    "   \n",
    "2. 資料從何而來 (tips：哪些資料可能會對你想問的問題產生影響 & 資料如何蒐集)\n",
    "\n",
    "\n",
    "   a.車子保養表(每個月定期保養，ex:車禍 加油 換機油...等)\n",
    "   \n",
    "   \n",
    "   b.服務回饋表(客人填寫回饋表單)\n",
    "   \n",
    "   \n",
    "   c.司機載客表(交易時紀錄)\n",
    "   \n",
    "   \n",
    "3. 蒐集而來的資料型態為何\n",
    "\n",
    "   a.\n",
    "   \n",
    "       column:\n",
    "       維修、保養時間(2020.02.24)\n",
    "       費用(1000.0)\n",
    "       維修、保養內容(換機油)\n",
    "   b.\n",
    "  \n",
    "       column:\n",
    "       司機評分(1~5)\n",
    "       司機姓名(xxx)\n",
    "       意見(無)\n",
    "   c.\n",
    "   \n",
    "       column:\n",
    "       上車地點(東區)\n",
    "       上車時間(星期一，08:00)\n",
    "       下車地點(北區)\n",
    "       下車時間(星期一，08:30)\n",
    "       費用(200.0)\n",
    "       \n",
    "4. 你要回答的問題，其如何評估 (tips：你的假設如何驗證)\n",
    "\n",
    "   a.意外因子\n",
    "   \n",
    "   b.將服務回饋表低於4分的人，招回公司受訓\n",
    "   \n",
    "   c.妥善分配司機營運地區、時間段\n",
    "   "
   ]
  },
  {
   "cell_type": "code",
   "execution_count": null,
   "metadata": {},
   "outputs": [],
   "source": []
  }
 ],
 "metadata": {
  "anaconda-cloud": {},
  "kernelspec": {
   "display_name": "Python 3",
   "language": "python",
   "name": "python3"
  },
  "language_info": {
   "codemirror_mode": {
    "name": "ipython",
    "version": 3
   },
   "file_extension": ".py",
   "mimetype": "text/x-python",
   "name": "python",
   "nbconvert_exporter": "python",
   "pygments_lexer": "ipython3",
   "version": "3.7.4"
  }
 },
 "nbformat": 4,
 "nbformat_minor": 1
}
